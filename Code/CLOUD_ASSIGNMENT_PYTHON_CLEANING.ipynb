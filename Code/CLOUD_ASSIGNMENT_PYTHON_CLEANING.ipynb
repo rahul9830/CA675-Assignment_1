{
 "cells": [
  {
   "cell_type": "code",
   "execution_count": 2,
   "metadata": {},
   "outputs": [],
   "source": [
    "import pandas as pd"
   ]
  },
  {
   "cell_type": "code",
   "execution_count": 3,
   "metadata": {},
   "outputs": [],
   "source": [
    "#We now import the csv files downloaded from stackexchaneg \n",
    "df1= pd.read_csv('C:/Users/98rah/Desktop/ASSIGNMENT/CA675-ASSIGNMENT_1/QueryResults_1.csv')\n",
    "df2= pd.read_csv('C:/Users/98rah/Desktop/ASSIGNMENT/CA675-ASSIGNMENT_1/QueryResults_2.csv')\n",
    "df3= pd.read_csv('C:/Users/98rah/Desktop/ASSIGNMENT/CA675-ASSIGNMENT_1/QueryResults_3.csv')\n",
    "df4= pd.read_csv('C:/Users/98rah/Desktop/ASSIGNMENT/CA675-ASSIGNMENT_1/QueryResults_4.csv')"
   ]
  },
  {
   "cell_type": "code",
   "execution_count": 3,
   "metadata": {},
   "outputs": [
    {
     "name": "stdout",
     "output_type": "stream",
     "text": [
      "<class 'pandas.core.frame.DataFrame'>\n",
      "RangeIndex: 50000 entries, 0 to 49999\n",
      "Data columns (total 23 columns):\n",
      " #   Column                 Non-Null Count  Dtype  \n",
      "---  ------                 --------------  -----  \n",
      " 0   Id                     50000 non-null  int64  \n",
      " 1   PostTypeId             50000 non-null  int64  \n",
      " 2   AcceptedAnswerId       42287 non-null  float64\n",
      " 3   ParentId               0 non-null      float64\n",
      " 4   CreationDate           50000 non-null  object \n",
      " 5   DeletionDate           0 non-null      float64\n",
      " 6   Score                  50000 non-null  int64  \n",
      " 7   ViewCount              50000 non-null  int64  \n",
      " 8   Body                   50000 non-null  object \n",
      " 9   OwnerUserId            48533 non-null  float64\n",
      " 10  OwnerDisplayName       5543 non-null   object \n",
      " 11  LastEditorUserId       42892 non-null  float64\n",
      " 12  LastEditorDisplayName  3461 non-null   object \n",
      " 13  LastEditDate           43446 non-null  object \n",
      " 14  LastActivityDate       50000 non-null  object \n",
      " 15  Title                  50000 non-null  object \n",
      " 16  Tags                   50000 non-null  object \n",
      " 17  AnswerCount            50000 non-null  int64  \n",
      " 18  CommentCount           50000 non-null  int64  \n",
      " 19  FavoriteCount          49884 non-null  float64\n",
      " 20  ClosedDate             4628 non-null   object \n",
      " 21  CommunityOwnedDate     518 non-null    object \n",
      " 22  ContentLicense         50000 non-null  object \n",
      "dtypes: float64(6), int64(6), object(11)\n",
      "memory usage: 8.8+ MB\n"
     ]
    }
   ],
   "source": [
    "df1.info()"
   ]
  },
  {
   "cell_type": "code",
   "execution_count": 6,
   "metadata": {},
   "outputs": [],
   "source": [
    "#Removes the html tags, tab space, line breaks from 'Body', 'Title' cloumns\n",
    "df1['Body'] = df1['Body'].apply(lambda a: re.sub('<.*?>|\\\\t*\\\\r*\\\\n*\\\\s+',' ',a));\n",
    "df1['Title'] = df1['Title'].apply(lambda b: re.sub('<.*?>|\\\\t*\\\\r*\\\\n*\\\\s+',' ',b));\n",
    "\n",
    "df2['Body'] = df2['Body'].apply(lambda c: re.sub('<.*?>|\\\\t*\\\\r*\\\\n*\\\\s+',' ',c));\n",
    "df2['Title'] = df2['Title'].apply(lambda d: re.sub('<.*?>|\\\\t*\\\\r*\\\\n*\\\\s+',' ',d));\n",
    "\n",
    "df3['Body'] = df3['Body'].apply(lambda e: re.sub('<.*?>|\\\\t*\\\\r*\\\\n*\\\\s+',' ',e));\n",
    "df3['Title'] = df3['Title'].apply(lambda f: re.sub('<.*?>|\\\\t*\\\\r*\\\\n*\\\\s+',' ',f));\n",
    "\n",
    "df4['Body'] = df4['Body'].apply(lambda g: re.sub('<.*?>|\\\\t*\\\\r*\\\\n*\\\\s+',' ',g));\n",
    "df4['Title'] = df4['Title'].apply(lambda h: re.sub('<.*?>|\\\\t*\\\\r*\\\\n*\\\\s+',' ',h));"
   ]
  },
  {
   "cell_type": "code",
   "execution_count": 13,
   "metadata": {},
   "outputs": [
    {
     "name": "stdout",
     "output_type": "stream",
     "text": [
      "<class 'pandas.core.frame.DataFrame'>\n",
      "RangeIndex: 50000 entries, 0 to 49999\n",
      "Data columns (total 22 columns):\n",
      " #   Column                 Non-Null Count  Dtype  \n",
      "---  ------                 --------------  -----  \n",
      " 0   Id                     50000 non-null  int64  \n",
      " 1   PostTypeId             50000 non-null  int64  \n",
      " 2   AcceptedAnswerId       42287 non-null  float64\n",
      " 3   ParentId               0 non-null      float64\n",
      " 4   CreationDate           50000 non-null  object \n",
      " 5   DeletionDate           0 non-null      float64\n",
      " 6   Score                  50000 non-null  int64  \n",
      " 7   ViewCount              50000 non-null  int64  \n",
      " 8   Body                   50000 non-null  object \n",
      " 9   OwnerUserId            48533 non-null  float64\n",
      " 10  OwnerDisplayName       5543 non-null   object \n",
      " 11  LastEditorUserId       42892 non-null  float64\n",
      " 12  LastEditorDisplayName  3461 non-null   object \n",
      " 13  LastEditDate           43446 non-null  object \n",
      " 14  LastActivityDate       50000 non-null  object \n",
      " 15  Title                  50000 non-null  object \n",
      " 16  Tags                   50000 non-null  object \n",
      " 17  AnswerCount            50000 non-null  int64  \n",
      " 18  CommentCount           50000 non-null  int64  \n",
      " 19  FavoriteCount          49884 non-null  float64\n",
      " 20  ClosedDate             4628 non-null   object \n",
      " 21  CommunityOwnedDate     518 non-null    object \n",
      "dtypes: float64(6), int64(6), object(10)\n",
      "memory usage: 8.4+ MB\n",
      "<class 'pandas.core.frame.DataFrame'>\n",
      "RangeIndex: 50000 entries, 0 to 49999\n",
      "Data columns (total 22 columns):\n",
      " #   Column                 Non-Null Count  Dtype  \n",
      "---  ------                 --------------  -----  \n",
      " 0   Id                     50000 non-null  int64  \n",
      " 1   PostTypeId             50000 non-null  int64  \n",
      " 2   AcceptedAnswerId       41271 non-null  float64\n",
      " 3   ParentId               0 non-null      float64\n",
      " 4   CreationDate           50000 non-null  object \n",
      " 5   DeletionDate           0 non-null      float64\n",
      " 6   Score                  50000 non-null  int64  \n",
      " 7   ViewCount              50000 non-null  int64  \n",
      " 8   Body                   50000 non-null  object \n",
      " 9   OwnerUserId            48750 non-null  float64\n",
      " 10  OwnerDisplayName       3786 non-null   object \n",
      " 11  LastEditorUserId       38570 non-null  float64\n",
      " 12  LastEditorDisplayName  2216 non-null   object \n",
      " 13  LastEditDate           39074 non-null  object \n",
      " 14  LastActivityDate       50000 non-null  object \n",
      " 15  Title                  50000 non-null  object \n",
      " 16  Tags                   50000 non-null  object \n",
      " 17  AnswerCount            50000 non-null  int64  \n",
      " 18  CommentCount           50000 non-null  int64  \n",
      " 19  FavoriteCount          49180 non-null  float64\n",
      " 20  ClosedDate             4091 non-null   object \n",
      " 21  CommunityOwnedDate     235 non-null    object \n",
      "dtypes: float64(6), int64(6), object(10)\n",
      "memory usage: 8.4+ MB\n",
      "<class 'pandas.core.frame.DataFrame'>\n",
      "RangeIndex: 50000 entries, 0 to 49999\n",
      "Data columns (total 22 columns):\n",
      " #   Column                 Non-Null Count  Dtype  \n",
      "---  ------                 --------------  -----  \n",
      " 0   Id                     50000 non-null  int64  \n",
      " 1   PostTypeId             50000 non-null  int64  \n",
      " 2   AcceptedAnswerId       40696 non-null  float64\n",
      " 3   ParentId               0 non-null      float64\n",
      " 4   CreationDate           50000 non-null  object \n",
      " 5   DeletionDate           0 non-null      float64\n",
      " 6   Score                  50000 non-null  int64  \n",
      " 7   ViewCount              50000 non-null  int64  \n",
      " 8   Body                   50000 non-null  object \n",
      " 9   OwnerUserId            48783 non-null  float64\n",
      " 10  OwnerDisplayName       3338 non-null   object \n",
      " 11  LastEditorUserId       36521 non-null  float64\n",
      " 12  LastEditorDisplayName  1909 non-null   object \n",
      " 13  LastEditDate           37036 non-null  object \n",
      " 14  LastActivityDate       50000 non-null  object \n",
      " 15  Title                  50000 non-null  object \n",
      " 16  Tags                   50000 non-null  object \n",
      " 17  AnswerCount            50000 non-null  int64  \n",
      " 18  CommentCount           50000 non-null  int64  \n",
      " 19  FavoriteCount          48104 non-null  float64\n",
      " 20  ClosedDate             3836 non-null   object \n",
      " 21  CommunityOwnedDate     175 non-null    object \n",
      "dtypes: float64(6), int64(6), object(10)\n",
      "memory usage: 8.4+ MB\n",
      "<class 'pandas.core.frame.DataFrame'>\n",
      "RangeIndex: 50000 entries, 0 to 49999\n",
      "Data columns (total 22 columns):\n",
      " #   Column                 Non-Null Count  Dtype  \n",
      "---  ------                 --------------  -----  \n",
      " 0   Id                     50000 non-null  int64  \n",
      " 1   PostTypeId             50000 non-null  int64  \n",
      " 2   AcceptedAnswerId       40389 non-null  float64\n",
      " 3   ParentId               0 non-null      float64\n",
      " 4   CreationDate           50000 non-null  object \n",
      " 5   DeletionDate           0 non-null      float64\n",
      " 6   Score                  50000 non-null  int64  \n",
      " 7   ViewCount              50000 non-null  int64  \n",
      " 8   Body                   50000 non-null  object \n",
      " 9   OwnerUserId            48798 non-null  float64\n",
      " 10  OwnerDisplayName       3042 non-null   object \n",
      " 11  LastEditorUserId       35302 non-null  float64\n",
      " 12  LastEditorDisplayName  1811 non-null   object \n",
      " 13  LastEditDate           35806 non-null  object \n",
      " 14  LastActivityDate       50000 non-null  object \n",
      " 15  Title                  50000 non-null  object \n",
      " 16  Tags                   50000 non-null  object \n",
      " 17  AnswerCount            50000 non-null  int64  \n",
      " 18  CommentCount           50000 non-null  int64  \n",
      " 19  FavoriteCount          46961 non-null  float64\n",
      " 20  ClosedDate             3532 non-null   object \n",
      " 21  CommunityOwnedDate     128 non-null    object \n",
      "dtypes: float64(6), int64(6), object(10)\n",
      "memory usage: 8.4+ MB\n"
     ]
    }
   ],
   "source": [
    "df1.info()\n",
    "df2.info()\n",
    "df3.info()\n",
    "df4.info()\n"
   ]
  },
  {
   "cell_type": "code",
   "execution_count": 7,
   "metadata": {},
   "outputs": [],
   "source": [
    "df=df1.append(df2)\n",
    "df=df.append(df3)\n",
    "df=df.append(df4)"
   ]
  },
  {
   "cell_type": "code",
   "execution_count": 10,
   "metadata": {},
   "outputs": [],
   "source": [
    "df.to_csv(\"C:/Users/98rah/Desktop/ASSIGNMENT/CA675-ASSIGNMENT_1/FINAL_DF.csv\", index=False)"
   ]
  }
 ],
 "metadata": {
  "kernelspec": {
   "display_name": "Python 3",
   "language": "python",
   "name": "python3"
  },
  "language_info": {
   "codemirror_mode": {
    "name": "ipython",
    "version": 3
   },
   "file_extension": ".py",
   "mimetype": "text/x-python",
   "name": "python",
   "nbconvert_exporter": "python",
   "pygments_lexer": "ipython3",
   "version": "3.8.3"
  }
 },
 "nbformat": 4,
 "nbformat_minor": 4
}
